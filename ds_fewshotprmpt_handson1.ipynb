{
 "cells": [
  {
   "cell_type": "code",
   "id": "initial_id",
   "metadata": {
    "collapsed": true,
    "ExecuteTime": {
     "end_time": "2024-05-07T14:27:13.746182Z",
     "start_time": "2024-05-07T14:27:09.936905Z"
    }
   },
   "source": [
    "from langchain_core.prompts import PromptTemplate\n",
    "from langchain_core.prompts import FewShotPromptTemplate"
   ],
   "outputs": [],
   "execution_count": 1
  },
  {
   "metadata": {},
   "cell_type": "code",
   "outputs": [],
   "execution_count": null,
   "source": [
    "example = [\n",
    "    {\n",
    "        \"question\" : \"When was the founder of craiglist born?\",\n",
    "        \"answer\" : \"\"\"\n",
    "        Are follow up questions needed here: Yes.\n",
    "        Follow up: Who was the founder of craigslist?\n",
    "        Intermediate answer: Craigslist was founded by Craig Newark.\n",
    "        Follow up: When was Craig Newark born?\n",
    "        Intermediate answer: Craig Neward was born on December 6, 1952.\n",
    "        So the final answer is: December 6, 1952\n",
    "        \"\"\",\n",
    "    },\n",
    "    {\n",
    "        \"question\" : \"Who was the maternal grandfather of George Washington?\",\n",
    "        \"answer\" : \"\"\"\n",
    "        Are follow up questions needed here: Yes.\n",
    "        Follow up: Who was the mother of George Washington?\n",
    "        Intermediate answer: The mother of George Washington was Mary Ball Washington.\n",
    "        Follow up: Who was the father of Mary Ball Washington?\n",
    "        Intermediate answer: The father of Mary Ball Washington was James Ball\n",
    "        So the final answer is: Joseph Ball\n",
    "        \"\"\",\n",
    "    },\n",
    "    \n",
    "    \n",
    "    \n",
    "    \n",
    "]"
   ],
   "id": "42a6fa959fc762f7"
  },
  {
   "metadata": {},
   "cell_type": "code",
   "outputs": [],
   "execution_count": null,
   "source": "",
   "id": "321275b0d9561b95"
  },
  {
   "metadata": {},
   "cell_type": "code",
   "outputs": [],
   "execution_count": null,
   "source": "",
   "id": "69c7a800eb07fb61"
  },
  {
   "metadata": {},
   "cell_type": "code",
   "outputs": [],
   "execution_count": null,
   "source": "",
   "id": "c2aad4b7dbc01c1f"
  },
  {
   "metadata": {},
   "cell_type": "code",
   "outputs": [],
   "execution_count": null,
   "source": "",
   "id": "dcb3328dbd56e6cf"
  },
  {
   "metadata": {},
   "cell_type": "code",
   "outputs": [],
   "execution_count": null,
   "source": "",
   "id": "3981705a1347a406"
  },
  {
   "metadata": {},
   "cell_type": "code",
   "outputs": [],
   "execution_count": null,
   "source": "",
   "id": "a232d31552aa102b"
  },
  {
   "metadata": {},
   "cell_type": "code",
   "outputs": [],
   "execution_count": null,
   "source": "",
   "id": "a422f1ed28448a9c"
  },
  {
   "metadata": {},
   "cell_type": "code",
   "outputs": [],
   "execution_count": null,
   "source": "",
   "id": "bc24466486c615be"
  }
 ],
 "metadata": {
  "kernelspec": {
   "display_name": "Python 3",
   "language": "python",
   "name": "python3"
  },
  "language_info": {
   "codemirror_mode": {
    "name": "ipython",
    "version": 2
   },
   "file_extension": ".py",
   "mimetype": "text/x-python",
   "name": "python",
   "nbconvert_exporter": "python",
   "pygments_lexer": "ipython2",
   "version": "2.7.6"
  }
 },
 "nbformat": 4,
 "nbformat_minor": 5
}
