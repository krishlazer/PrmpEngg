{
 "cells": [
  {
   "cell_type": "code",
   "id": "initial_id",
   "metadata": {
    "collapsed": true,
    "ExecuteTime": {
     "end_time": "2024-05-07T12:43:25.457321Z",
     "start_time": "2024-05-07T12:43:25.240473Z"
    }
   },
   "source": "import os",
   "execution_count": 1,
   "outputs": []
  },
  {
   "metadata": {
    "ExecuteTime": {
     "end_time": "2024-05-07T12:43:32.225854Z",
     "start_time": "2024-05-07T12:43:32.215743Z"
    }
   },
   "cell_type": "code",
   "source": "openai_api_key = os.getenv(\"OPENAI_API_KEY\")",
   "id": "8caa3a2c30090d26",
   "execution_count": 2,
   "outputs": []
  },
  {
   "metadata": {
    "ExecuteTime": {
     "end_time": "2024-05-07T12:52:20.500145Z",
     "start_time": "2024-05-07T12:52:20.454917Z"
    }
   },
   "cell_type": "code",
   "source": [
    "from langchain import PromptTemplate\n",
    "demo_template = \"\"\"I want you to act as a financial advisor for people. In an easy way \n",
    "explain the basics of {financial_concept}\"\"\"\n",
    "prompt = PromptTemplate(input_variables=[\"financial_concept\"], \n",
    "               template=demo_template)\n",
    "prompt.format(financial_concept=\"Return on Investment.\")"
   ],
   "id": "acbc8215a5e61992",
   "execution_count": 5,
   "outputs": []
  },
  {
   "metadata": {
    "ExecuteTime": {
     "end_time": "2024-05-07T12:59:42.548775Z",
     "start_time": "2024-05-07T12:59:40.071821Z"
    }
   },
   "cell_type": "code",
   "source": [
    "from langchain_openai import OpenAI\n",
    "from langchain.chains import LLMChain\n",
    "llm = OpenAI(temperature = 0.7)\n",
    "chain1 = LLMChain(llm=llm, prompt=prompt)"
   ],
   "id": "625663e70438ecfa",
   "execution_count": 7,
   "outputs": []
  },
  {
   "metadata": {
    "ExecuteTime": {
     "end_time": "2024-05-07T13:01:38.706078Z",
     "start_time": "2024-05-07T13:01:34.886305Z"
    }
   },
   "cell_type": "code",
   "source": "chain1.invoke(\"Earnings per share\")",
   "id": "bbaa594ce956daa0",
   "execution_count": 9,
   "outputs": []
  },
  {
   "metadata": {
    "ExecuteTime": {
     "end_time": "2024-05-07T13:17:39.084559Z",
     "start_time": "2024-05-07T13:17:39.078038Z"
    }
   },
   "cell_type": "code",
   "source": [
    "translate_template = \"\"\"Please translate the following sentence: {sentence} into\n",
    "{target_language}\"\"\""
   ],
   "id": "b402e0fbd4b37bbe",
   "execution_count": 13,
   "outputs": []
  },
  {
   "metadata": {
    "ExecuteTime": {
     "end_time": "2024-05-07T13:17:40.248558Z",
     "start_time": "2024-05-07T13:17:40.238272Z"
    }
   },
   "cell_type": "code",
   "source": "language_prompt=PromptTemplate(input_variables=[\"sentence\", \"target_language\"], template=translate_template)",
   "id": "e5cbda1843ed2df0",
   "execution_count": 14,
   "outputs": []
  },
  {
   "metadata": {
    "ExecuteTime": {
     "end_time": "2024-05-07T13:17:42.003119Z",
     "start_time": "2024-05-07T13:17:41.973939Z"
    }
   },
   "cell_type": "code",
   "source": "language_prompt.format(sentence=\"The meeting will start in a few minutes\", target_language=\"French\")",
   "id": "81624f72d6343d4c",
   "execution_count": 15,
   "outputs": []
  },
  {
   "metadata": {
    "ExecuteTime": {
     "end_time": "2024-05-07T13:18:42.862903Z",
     "start_time": "2024-05-07T13:18:41.923384Z"
    }
   },
   "cell_type": "code",
   "source": "llm = OpenAI(temperature = 0.7)",
   "id": "bddf22db8a8a9856",
   "execution_count": 16,
   "outputs": []
  },
  {
   "metadata": {
    "ExecuteTime": {
     "end_time": "2024-05-07T13:18:54.845501Z",
     "start_time": "2024-05-07T13:18:54.834417Z"
    }
   },
   "cell_type": "code",
   "source": "chain2 = LLMChain(llm=llm, prompt=language_prompt)",
   "id": "538eb454f4dcaf19",
   "execution_count": 18,
   "outputs": []
  },
  {
   "metadata": {
    "ExecuteTime": {
     "end_time": "2024-05-07T13:23:26.370633Z",
     "start_time": "2024-05-07T13:23:25.691255Z"
    }
   },
   "cell_type": "code",
   "source": [
    "chain2.invoke({'sentence': 'The meeting will start in a few minutes',\n",
    "               'target_language': 'Malay'})"
   ],
   "id": "9b83f75e6538dbee",
   "execution_count": 26,
   "outputs": []
  },
  {
   "metadata": {
    "ExecuteTime": {
     "end_time": "2024-05-07T13:36:39.722341Z",
     "start_time": "2024-05-07T13:36:39.708641Z"
    }
   },
   "cell_type": "code",
   "source": [
    "from langchain import PromptTemplate, FewShotPromptTemplate\n",
    "examples = [\n",
    "    {\"word\" : \"big\", \"antonym\" : \"small\"},\n",
    "    {\"word\" : \"break\", \"antonym\" : \"join\"}    \n",
    "]\n",
    "\n",
    "example_formatter_template = \"\"\"Word : {word}\n",
    "Antonym : {antonym}\n",
    "\"\"\"\n",
    "\n",
    "example_prompt = PromptTemplate(\n",
    "  input_variables=[\"word\", \"antonym\"], template=example_formatter_template  \n",
    ")"
   ],
   "id": "f98483e76873d3f8",
   "execution_count": 27,
   "outputs": []
  },
  {
   "metadata": {
    "ExecuteTime": {
     "end_time": "2024-05-07T13:41:50.857903Z",
     "start_time": "2024-05-07T13:41:50.844953Z"
    }
   },
   "cell_type": "code",
   "source": [
    "few_shot_prompt = FewShotPromptTemplate(\n",
    "    examples = examples,\n",
    "    example_prompt = example_prompt,\n",
    "    prefix = \"Give the antonym of every input\\n\",\n",
    "    suffix = \"Word: {input}\\nAntonym: \",\n",
    "    input_variables = [\"input\"],\n",
    "    example_separator=\"\\n\"    \n",
    ")"
   ],
   "id": "4388cb697d695f19",
   "execution_count": 28,
   "outputs": []
  },
  {
   "metadata": {
    "ExecuteTime": {
     "end_time": "2024-05-07T13:43:10.702248Z",
     "start_time": "2024-05-07T13:43:10.691635Z"
    }
   },
   "cell_type": "code",
   "source": "print(few_shot_prompt.format(input=\"old\"))",
   "id": "26f13be70364208a",
   "execution_count": 29,
   "outputs": []
  },
  {
   "metadata": {
    "ExecuteTime": {
     "end_time": "2024-05-07T13:45:48.665858Z",
     "start_time": "2024-05-07T13:45:48.123856Z"
    }
   },
   "cell_type": "code",
   "source": [
    "chain = LLMChain(llm=llm, prompt=few_shot_prompt)\n",
    "chain.invoke({'input': 'vast'})"
   ],
   "id": "9867ba7b29035a9f",
   "execution_count": 30,
   "outputs": []
  },
  {
   "metadata": {},
   "cell_type": "code",
   "execution_count": null,
   "source": "",
   "id": "c0612260c7c9a153",
   "outputs": []
  },
  {
   "metadata": {},
   "cell_type": "code",
   "execution_count": null,
   "source": "",
   "id": "41aed80158b691bf",
   "outputs": []
  },
  {
   "metadata": {},
   "cell_type": "code",
   "execution_count": null,
   "source": "",
   "id": "d8d7848cc1d21087",
   "outputs": []
  },
  {
   "metadata": {},
   "cell_type": "code",
   "execution_count": null,
   "source": "",
   "id": "ee93ac014cba192b",
   "outputs": []
  }
 ],
 "metadata": {
  "kernelspec": {
   "display_name": "Python 3",
   "language": "python",
   "name": "python3"
  },
  "language_info": {
   "codemirror_mode": {
    "name": "ipython",
    "version": 2
   },
   "file_extension": ".py",
   "mimetype": "text/x-python",
   "name": "python",
   "nbconvert_exporter": "python",
   "pygments_lexer": "ipython2",
   "version": "2.7.6"
  }
 },
 "nbformat": 4,
 "nbformat_minor": 5
}
